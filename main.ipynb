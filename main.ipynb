{
 "cells": [
  {
   "cell_type": "code",
   "outputs": [],
   "source": [
    "import os\n",
    "import pandas as pd\n",
    "from torch.utils.data import DataLoader\n",
    "from sklearn.preprocessing import StandardScaler\n",
    "from AudioDataset import AudioDataset\n",
    "from CLassicalML import Preprocessor, RandomForestModel, XGBoostModel, LightGBMModel, LogisticRegressionModel, \\\n",
    "    ModelComparer\n",
    "from DescriptiveStatistics import DescriptiveStatistics\n",
    "from HyperParameterTuning import HyperParameterTuning\n",
    "import torch.nn as nn\n",
    "import torch.optim as optim\n",
    "\n",
    "APPLY_DESCRIPTIVE_STATISTICS = False\n",
    "APPLY_CLASSICAL_ML = True\n",
    "APPLY_LSTM = False"
   ],
   "metadata": {
    "collapsed": false,
    "ExecuteTime": {
     "end_time": "2024-04-15T15:04:15.975654Z",
     "start_time": "2024-04-15T15:04:13.951681Z"
    }
   },
   "id": "ed57087deda7b1df",
   "execution_count": 3
  },
  {
   "cell_type": "markdown",
   "source": [
    "## Load the data"
   ],
   "metadata": {
    "collapsed": false
   },
   "id": "a411386384b399c7"
  },
  {
   "cell_type": "code",
   "outputs": [],
   "source": [
    "train_labels = pd.read_csv('compare22-KSF/lab/train.csv').sort_values(by='filename')\n",
    "test_labels = pd.read_csv('compare22-KSF/lab/test.csv').sort_values(by='filename')\n",
    "devel_labels = pd.read_csv('compare22-KSF/lab/devel.csv').sort_values(by='filename')\n",
    "# convert the test labels to nan\n",
    "test_labels['label'] = float('nan')\n",
    "\n",
    "directory = 'compare22-KSF/wav'\n",
    "all_files = os.listdir(directory)\n",
    "train_wav_files = sorted([os.path.join(directory, file) for file in all_files if file.startswith('train')])\n",
    "devel_wav_files = sorted([os.path.join(directory, file) for file in all_files if file.startswith('devel')])\n",
    "test_wav_files = sorted([os.path.join(directory, file) for file in all_files if file.startswith('test')])"
   ],
   "metadata": {
    "collapsed": false,
    "ExecuteTime": {
     "end_time": "2024-04-15T15:04:18.455325Z",
     "start_time": "2024-04-15T15:04:18.432102Z"
    }
   },
   "id": "f43232abc914fced",
   "execution_count": 4
  },
  {
   "cell_type": "code",
   "outputs": [],
   "source": [
    "# Create a label map dictionary for mapping the string labels to integers\n",
    "label_map = {\n",
    "    'Prolongation': 0,\n",
    "    'no_disfluencies': 1,\n",
    "    'Fillers': 2,\n",
    "    'Block': 3,\n",
    "    'Modified': 4,\n",
    "    'SoundRepetition': 5,\n",
    "    'WordRepetition': 6,\n",
    "    'Garbage': 7\n",
    "}\n",
    "\n",
    "train_labels['label'] = train_labels['label'].map(label_map)\n",
    "devel_labels['label'] = devel_labels['label'].map(label_map)"
   ],
   "metadata": {
    "collapsed": false,
    "ExecuteTime": {
     "end_time": "2024-04-15T15:04:20.043634Z",
     "start_time": "2024-04-15T15:04:20.040002Z"
    }
   },
   "id": "480b9af1a1da9d7d",
   "execution_count": 5
  },
  {
   "cell_type": "markdown",
   "source": [
    "## Descriptive Statistics"
   ],
   "metadata": {
    "collapsed": false
   },
   "id": "3e6f5f591451f82a"
  },
  {
   "cell_type": "code",
   "outputs": [],
   "source": [
    "if APPLY_DESCRIPTIVE_STATISTICS:\n",
    "    # Create an instance of the DescriptiveStatistics class and run the statistical tests and plots\n",
    "    ds = DescriptiveStatistics(train_wav_files, test_wav_files, devel_wav_files)\n",
    "    ds.run()"
   ],
   "metadata": {
    "collapsed": false,
    "ExecuteTime": {
     "end_time": "2024-04-15T15:04:22.250018Z",
     "start_time": "2024-04-15T15:04:22.246839Z"
    }
   },
   "id": "33b8a9e23b762fc4",
   "execution_count": 6
  },
  {
   "cell_type": "markdown",
   "source": [
    "## Classical Machine Learning"
   ],
   "metadata": {
    "collapsed": false
   },
   "id": "a4b8f16ebf06bd59"
  },
  {
   "cell_type": "code",
   "outputs": [],
   "source": [
    "if APPLY_CLASSICAL_ML:\n",
    "    # Collect the features for the train and devel datasets\n",
    "    methods = ['tempo_and_beats', 'spectral_centroid', 'spectral_bandwidth', 'spectral_contrast',\n",
    "               'spectral_flatness', 'spectral_rolloff', 'zero_crossing_rate', 'rms_energy']\n",
    "    pre_ps = Preprocessor(methods)\n",
    "    # apply feature extraction methods to the audio files\n",
    "    train_df = pre_ps.run(list_of_audio_files=train_wav_files, y=train_labels)\n",
    "    devel_df = pre_ps.run(list_of_audio_files=devel_wav_files, y=devel_labels)\n",
    "    # Split the data into features and target\n",
    "    X_train = train_df.drop('label', axis=1)\n",
    "    y_train = train_df['label']\n",
    "    X_test = devel_df.drop('label', axis=1)\n",
    "    y_test = devel_df['label']\n",
    "    # apply standard scaling\n",
    "    scaler = StandardScaler()\n",
    "    X_train = scaler.fit_transform(X_train)\n",
    "    X_test = scaler.transform(X_test)\n",
    "    # Create a list of models\n",
    "    models = [RandomForestModel(), XGBoostModel(), LightGBMModel(), LogisticRegressionModel()]\n",
    "    # Compare models\n",
    "    comparer = ModelComparer(models)\n",
    "    results = comparer.tune_and_evaluate(X_train, y_train, X_test, y_test)\n",
    "    print(results)\n"
   ],
   "metadata": {
    "collapsed": false
   },
   "id": "3e54d364f8f7d02a"
  },
  {
   "cell_type": "markdown",
   "source": [
    "## LSTM"
   ],
   "metadata": {
    "collapsed": false
   },
   "id": "dbe4828960c9e057"
  },
  {
   "cell_type": "code",
   "outputs": [
    {
     "ename": "NameError",
     "evalue": "name 'APPLY_LSTM' is not defined",
     "output_type": "error",
     "traceback": [
      "\u001B[0;31m---------------------------------------------------------------------------\u001B[0m",
      "\u001B[0;31mNameError\u001B[0m                                 Traceback (most recent call last)",
      "Cell \u001B[0;32mIn[2], line 1\u001B[0m\n\u001B[0;32m----> 1\u001B[0m \u001B[38;5;28;01mif\u001B[39;00m \u001B[43mAPPLY_LSTM\u001B[49m:\n\u001B[1;32m      2\u001B[0m     \u001B[38;5;66;03m# Create an instance of the AudioDataset class\u001B[39;00m\n\u001B[1;32m      3\u001B[0m     train_dataset \u001B[38;5;241m=\u001B[39m AudioDataset(train_wav_files, train_labels[\u001B[38;5;124m'\u001B[39m\u001B[38;5;124mlabel\u001B[39m\u001B[38;5;124m'\u001B[39m]\u001B[38;5;241m.\u001B[39mvalues\u001B[38;5;241m.\u001B[39mtolist())\n\u001B[1;32m      4\u001B[0m     test_dataset \u001B[38;5;241m=\u001B[39m AudioDataset(test_wav_files, test_labels[\u001B[38;5;124m'\u001B[39m\u001B[38;5;124mlabel\u001B[39m\u001B[38;5;124m'\u001B[39m]\u001B[38;5;241m.\u001B[39mvalues\u001B[38;5;241m.\u001B[39mtolist())\n",
      "\u001B[0;31mNameError\u001B[0m: name 'APPLY_LSTM' is not defined"
     ]
    }
   ],
   "source": [
    "if APPLY_LSTM:\n",
    "    # Create an instance of the AudioDataset class\n",
    "    train_dataset = AudioDataset(train_wav_files, train_labels['label'].values.tolist())\n",
    "    test_dataset = AudioDataset(test_wav_files, test_labels['label'].values.tolist())\n",
    "    devel_dataset = AudioDataset(devel_wav_files, devel_labels['label'].values.tolist())\n",
    "    \n",
    "    # Create a DataLoader instance to load batches of data\n",
    "    train_data_loader = DataLoader(train_dataset, batch_size=32)\n",
    "    test_data_loader = DataLoader(test_dataset, batch_size=32)\n",
    "    devel_data_loader = DataLoader(devel_dataset, batch_size=32)\n",
    "    \n",
    "    param_grid = {\n",
    "        'input_size': [48000],\n",
    "        'hidden_size': [32, 64, 128],\n",
    "        'num_layers': [2, 4, 6],\n",
    "        'num_classes': [train_labels['label'].nunique()],\n",
    "        'criterion': [nn.CrossEntropyLoss()],\n",
    "        'learning_rate': [0.001, 0.01],\n",
    "        'optimizer': [optim.Adam, optim.SGD],\n",
    "        'num_epochs': [10, 15, 20, 25, 30]\n",
    "    }\n",
    "    \n",
    "    hpt = HyperParameterTuning(param_grid=param_grid)\n",
    "    hpt.fit(train_data_loader, devel_data_loader)\n",
    "    hpt.print_best_model()"
   ],
   "metadata": {
    "collapsed": false,
    "ExecuteTime": {
     "end_time": "2024-04-15T15:04:03.492401Z",
     "start_time": "2024-04-15T15:04:03.471426Z"
    }
   },
   "id": "de8bee58d2b6e7ff",
   "execution_count": 2
  },
  {
   "cell_type": "code",
   "outputs": [],
   "source": [],
   "metadata": {
    "collapsed": false
   },
   "id": "9cce5f9ee184966f"
  }
 ],
 "metadata": {
  "kernelspec": {
   "display_name": "Python 3",
   "language": "python",
   "name": "python3"
  },
  "language_info": {
   "codemirror_mode": {
    "name": "ipython",
    "version": 2
   },
   "file_extension": ".py",
   "mimetype": "text/x-python",
   "name": "python",
   "nbconvert_exporter": "python",
   "pygments_lexer": "ipython2",
   "version": "2.7.6"
  }
 },
 "nbformat": 4,
 "nbformat_minor": 5
}
